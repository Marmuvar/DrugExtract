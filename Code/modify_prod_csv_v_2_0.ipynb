{
 "cells": [
  {
   "cell_type": "code",
   "execution_count": null,
   "id": "0410cfc3",
   "metadata": {},
   "outputs": [],
   "source": [
    "# Package Author Mark Benmuvhar\n",
    "# pdf_modify_prod_csv\n",
    "# Version 2.0.0\n",
    "# 10/16/2022"
   ]
  },
  {
   "cell_type": "code",
   "execution_count": null,
   "id": "096de9a4",
   "metadata": {},
   "outputs": [],
   "source": [
    "import numpy as np\n",
    "import pandas as pd\n",
    "import re\n",
    "import os"
   ]
  },
  {
   "cell_type": "code",
   "execution_count": null,
   "id": "23f1d0ee",
   "metadata": {},
   "outputs": [],
   "source": [
    "#https://pandas.pydata.org/pandas-docs/stable/reference/api/pandas.Series.str.contains.html?highlight=contains\n",
    "def get_levo_bool(df):\n",
    "    try:\n",
    "        return df['ds_name'].str.contains(r'LEVOTHYROXINE SODIUM\\s*\\*\\*')\n",
    "    except:\n",
    "        print('error getting name from ', s,'/n Found ', m)"
   ]
  },
  {
   "cell_type": "code",
   "execution_count": null,
   "id": "36eab913",
   "metadata": {},
   "outputs": [],
   "source": [
    "def get_levo_be(df):\n",
    "    try:\n",
    "        return df['be'].str.contains(r'--\\>*')\n",
    "    except:\n",
    "        print('error getting name from ', s,'/n Found ', m)"
   ]
  },
  {
   "cell_type": "code",
   "execution_count": null,
   "id": "a8302a0c",
   "metadata": {},
   "outputs": [],
   "source": [
    "# find_be takes a cell from the  strength column from Levothyroxine Sodium\n",
    "# and abstracts the BE component \n",
    "# It applies a regex to abstract\n",
    "# Intended for use in an apply statement\n",
    "\n",
    "def find_be(s):\n",
    "    try:\n",
    "        #p=re.compile('\\s(\\D\\D\\d,*)+')\n",
    "        p=re.compile('(AB\\d,*)+')\n",
    "        m=p.search(s)\n",
    "        return m[0]\n",
    "    except:\n",
    "        print('error getting name from ', s,'/n Found ', m)"
   ]
  },
  {
   "cell_type": "code",
   "execution_count": null,
   "id": "b45416e2",
   "metadata": {},
   "outputs": [],
   "source": [
    "# find_strength takes a cell from the strength column from Levothyroxine Sodium\n",
    "# and abstracts the strength component \n",
    "# It applies a regex to abstract\n",
    "# Intended for use in an apply statement\n",
    "def find_strength(s):  \n",
    "    try:\n",
    "        p=re.compile('0\\.\\d*MG')\n",
    "        m=p.search(s)\n",
    "        return m[0]\n",
    "    except:\n",
    "        print('error getting strength from ', s)"
   ]
  },
  {
   "cell_type": "code",
   "execution_count": null,
   "id": "3ad31340",
   "metadata": {},
   "outputs": [],
   "source": [
    "def find_app_type(s):\n",
    "    try:\n",
    "        if pd.notna(s):\n",
    "            p=re.compile(r'A|N')\n",
    "            m=p.search(s)\n",
    "            return m[0]\n",
    "        else:\n",
    "            return np.nan\n",
    "    except:\n",
    "        print('error finding application type in ', s)"
   ]
  },
  {
   "cell_type": "code",
   "execution_count": null,
   "id": "68740ced",
   "metadata": {},
   "outputs": [],
   "source": [
    "def find_app_nums(s):\n",
    "    try:\n",
    "        if pd.notna(s):\n",
    "            p=re.compile(r'\\d+')\n",
    "            m=p.search(s)\n",
    "            return m[0]\n",
    "        else:\n",
    "            return np.nan\n",
    "    except:\n",
    "        print('error finding application numbers in ', s)"
   ]
  },
  {
   "cell_type": "code",
   "execution_count": null,
   "id": "4e395ad8",
   "metadata": {},
   "outputs": [],
   "source": [
    "s=['bob;jane','jack; diane']\n",
    "p = re.compile(r';(?!\\s)')\n",
    "for i in s:\n",
    "    print(i)\n",
    "    print(p.search(i))"
   ]
  },
  {
   "cell_type": "code",
   "execution_count": null,
   "id": "6a915412",
   "metadata": {},
   "outputs": [],
   "source": [
    "#def main():\n",
    "  \n",
    "directory = ('OrangeBook\\csv\\prods\\\\')\n",
    "otpt_directory = ('OrangeBook\\csv_edits\\prods\\\\')\n",
    "otpt_directory2 = ('OrangeData\\prods\\\\')\n",
    "\n",
    "p = re.compile(r'prod_v1_4')\n",
    "p_sem = re.compile(r';(?!\\s)')\n",
    "\n",
    "# file naming variables\n",
    "for filename in os.scandir(directory):\n",
    "    if not filename.is_dir():\n",
    "        try:\n",
    "            print(filename)\n",
    "            clean=pd.read_csv(filename.path)\n",
    "            df=clean.copy()\n",
    "        except Exception as e:\n",
    "            print('File Input error in ',filename, '\\n',e)\n",
    "\n",
    "# Editing Block \n",
    "    #Cleanup of Levothyroxine labels\n",
    "        df.drop(labels = 'Unnamed: 0', axis = 1, inplace = True )\n",
    "    \n",
    "        idx=get_levo_bool(df)\n",
    "        idx2=get_levo_be(df)\n",
    "        idx3=idx&idx2\n",
    "        \n",
    "        df.loc[idx, 'ds_name'] = 'LEVOTHYROXINE SODIUM'\n",
    "        \n",
    "        be=df.loc[idx3, 'strength'].apply(find_be)\n",
    "        strengths = df.loc[idx3, 'strength'].apply(find_strength)\n",
    "        df.loc[idx3, 'be'] = be\n",
    "        df.loc[idx3, 'strength'] = strengths\n",
    "        \n",
    "        app_type = df['app_no'].apply(find_app_type)\n",
    "        app_nums = df['app_no'].apply(find_app_nums)\n",
    "        df['app_type']= app_type\n",
    "        df['app_nums']= app_nums\n",
    "        \n",
    "    #Cleanup of other columns\n",
    "        df['prod_no'].replace(np.nan, None, inplace = True)\n",
    "        df['be'].replace(np.nan, None, inplace = True)\n",
    "        df['note'].replace(np.nan, 'No Notes', inplace = True)\n",
    "        df['prod_no'] = df['prod_no'].transform(str)\n",
    "        df['prod_no'] = df['prod_no'].str.replace(r'00+\\s*','', regex = True)\n",
    "        df['route'].replace(p_sem,'; ', inplace = True)\n",
    "        df['ds_name']=df['ds_name'].str.lstrip()\n",
    "        df = df.drop(['app_no'], axis=1)\n",
    "\n",
    "#file Output\n",
    "        rn_out_name = p.sub('prod_v2_0_ed1.csv', filename.name)\n",
    "        rn_out_doc = otpt_directory+rn_out_name\n",
    "        df.to_csv(rn_out_doc)\n",
    "        rn_out_doc = otpt_directory2+rn_out_name\n",
    "        df.to_csv(rn_out_doc)\n",
    "        print('Completed cleaning drug product info from ',filename.name)\n",
    "        print('File written to ',rn_out_doc)"
   ]
  }
 ],
 "metadata": {
  "kernelspec": {
   "display_name": "Python 3 (ipykernel)",
   "language": "python",
   "name": "python3"
  },
  "language_info": {
   "codemirror_mode": {
    "name": "ipython",
    "version": 3
   },
   "file_extension": ".py",
   "mimetype": "text/x-python",
   "name": "python",
   "nbconvert_exporter": "python",
   "pygments_lexer": "ipython3",
   "version": "3.9.7"
  }
 },
 "nbformat": 4,
 "nbformat_minor": 5
}
