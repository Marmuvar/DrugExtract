{
 "cells": [
  {
   "cell_type": "code",
   "execution_count": null,
   "id": "66d16cc1",
   "metadata": {},
   "outputs": [],
   "source": [
    "# Package Author Mark Benmuvhar\n",
    "# thesis_filter_pats\n",
    "# Version 2.0.0\n",
    "# 10/16/2022"
   ]
  },
  {
   "cell_type": "code",
   "execution_count": 1,
   "id": "4eabe41f",
   "metadata": {},
   "outputs": [],
   "source": [
    "import numpy as np\n",
    "import pandas as pd\n",
    "from datetime import date\n",
    "import re\n",
    "import os"
   ]
  },
  {
   "cell_type": "code",
   "execution_count": 2,
   "id": "b1d99300",
   "metadata": {},
   "outputs": [
    {
     "name": "stdout",
     "output_type": "stream",
     "text": [
      "<DirEntry 'OB-Annual-2005-25th-Ed_pat_1_5_1.csv'>\n",
      "<DirEntry 'OB-Annual-2006-26th-Ed_pat_1_5_1.csv'>\n",
      "<DirEntry 'OB-Annual-2007-27th-Ed_pat_1_5_1.csv'>\n",
      "<DirEntry 'OB-Annual-2008-28th-Ed_pat_1_5_1.csv'>\n",
      "<DirEntry 'OB-Annual-2009-29th-Ed_pat_1_5_1.csv'>\n",
      "<DirEntry 'OB-Annual-2010-30th-Ed_pat_1_5_1.csv'>\n",
      "<DirEntry 'OB-Annual-2011-31st-Ed_pat_1_5_1.csv'>\n",
      "<DirEntry 'OB-Annual-2012-32nd-Ed_pat_1_5_1.csv'>\n",
      "<DirEntry 'OB-Annual-2013-33rd-Ed_pat_1_5_1.csv'>\n",
      "<DirEntry 'OB-Annual-2014-34th-Ed_pat_1_5_1.csv'>\n",
      "<DirEntry 'OB-Annual-2015-35th-Ed_pat_1_5_1.csv'>\n",
      "<DirEntry 'OB-Annual-2016-36th-Ed_pat_1_5_1.csv'>\n",
      "<DirEntry 'OB-Annual-2017-37th-Ed_pat_1_5_1.csv'>\n",
      "<DirEntry 'OB-Annual-2018-38th-Ed_pat_1_5_1.csv'>\n",
      "<DirEntry 'OB-Annual-2019-39th-Ed_pat_1_5_1.csv'>\n",
      "<DirEntry 'OB-Annual-2020-40th-Ed_pat_1_5_1.csv'>\n",
      "<DirEntry 'OB-Annual-2021-41st-Ed_pat_1_5_1.csv'>\n",
      "<DirEntry 'OB-Annual-2022-42nd-Ed_pat_1_5_1.csv'>\n"
     ]
    }
   ],
   "source": [
    "# pdf_io\n",
    "directory = ('OrangeData\\Pats')\n",
    "start=True\n",
    "for filename in os.scandir(directory):\n",
    "    print(filename)\n",
    "    if not filename.is_dir():\n",
    "        data_in=pd.read_csv(\n",
    "            filename,\n",
    "            dtype =\n",
    "               {\n",
    "                'DP_Name' : str,\n",
    "                'Application_No' : str,\n",
    "                'Product_No': int,\n",
    "                'Patent_No': str,\n",
    "                'Patent_Expiration_Date': str, \n",
    "                'Patent_Codes': str, \n",
    "                'Patent_Delist' : str,\n",
    "                'Exclusivity' : str,\n",
    "                'Exclusive_Expire': str\n",
    "              },\n",
    "            parse_dates = True\n",
    "        )\n",
    "        if start == True:\n",
    "            df = data_in.copy()\n",
    "            start = False\n",
    "        else:\n",
    "            df = pd.concat([df, data_in])\n",
    "\n",
    "\n",
    "        \n",
    "                           "
   ]
  },
  {
   "cell_type": "code",
   "execution_count": 3,
   "id": "56784f20",
   "metadata": {},
   "outputs": [],
   "source": [
    "# find_use_pats looks for usage code flag via regex\n",
    "# Intended for use in an apply statement using the Patent_Code column containing str\n",
    "\n",
    "def find_use_pat(s):\n",
    "    p=re.compile('U-\\d+')\n",
    "    try:\n",
    "        if pd.notna(s):\n",
    "            m=p.search(s)\n",
    "            if m:\n",
    "                return m[0]\n",
    "        return np.nan\n",
    "    except:\n",
    "        print('error getting use code from ', s,'\\n Found ',m[0])"
   ]
  },
  {
   "cell_type": "code",
   "execution_count": 4,
   "id": "3ee7bdbd",
   "metadata": {},
   "outputs": [],
   "source": [
    "def find_app_type(s):\n",
    "    try:\n",
    "        if pd.notna(s):\n",
    "            p=re.compile(r'A|N')\n",
    "            m=p.search(s)\n",
    "            if m:\n",
    "                return m[0]\n",
    "        return np.nan\n",
    "    except:\n",
    "        print('error finding application type in ', s)"
   ]
  },
  {
   "cell_type": "code",
   "execution_count": 5,
   "id": "c1ca9f12",
   "metadata": {},
   "outputs": [],
   "source": [
    "def find_app_nums(s):\n",
    "    try:\n",
    "        if pd.notna(s):\n",
    "            p=re.compile(r'\\d+')\n",
    "            m=p.search(s)\n",
    "            return m[0]\n",
    "        else:\n",
    "            return np.nan\n",
    "    except:\n",
    "        print('error finding application numbers in ', s)"
   ]
  },
  {
   "cell_type": "code",
   "execution_count": 6,
   "id": "9b0bb32e",
   "metadata": {},
   "outputs": [],
   "source": [
    "df['Patent_Delist'].replace(np.nan, False, inplace = True)\n",
    "dfw = df.drop_duplicates(keep = 'first', \n",
    "                         subset  = df.columns[~df.columns.str.contains('Product_No')])\n",
    "dfw.reset_index(inplace = True, drop = True)"
   ]
  },
  {
   "cell_type": "code",
   "execution_count": 11,
   "id": "b13b41c6",
   "metadata": {},
   "outputs": [],
   "source": [
    "#https://www.statology.org/pandas-filter-rows-containing-string/\n",
    "dp = dfw['Patent_Codes'].str.contains('DP', na=False)\n",
    "dp.name = 'DP'\n",
    "ds = dfw['Patent_Codes'].str.contains('DS', na=False)\n",
    "ds.name = 'DS'\n",
    "use = dfw['Patent_Codes'].apply(find_use_pat)\n",
    "use.name = 'Use'\n",
    "pn = dfw['Patent_No'].apply(find_app_nums)\n",
    "pn.name = 'Pat_Nums'\n",
    "pe = dfw['Patent_No'].str.contains('PED')\n",
    "pe.name = 'PE'\n",
    "\n",
    "dfw=pd.concat([dfw, dp], axis = 1)\n",
    "dfw=pd.concat([dfw, ds], axis = 1)\n",
    "dfw=pd.concat([dfw, use], axis = 1)\n",
    "dfw=pd.concat([dfw, pn], axis = 1)\n",
    "dfw=pd.concat([dfw, pe], axis = 1)"
   ]
  },
  {
   "cell_type": "code",
   "execution_count": 13,
   "id": "b6d38abc",
   "metadata": {},
   "outputs": [],
   "source": [
    "app_type = dfw['Application_No'].apply(find_app_type)\n",
    "app_nums = dfw['Application_No'].apply(find_app_nums)\n",
    "dfw['app_type']= app_type\n",
    "dfw['app_nums']= app_nums"
   ]
  },
  {
   "cell_type": "code",
   "execution_count": 14,
   "id": "e1fc2bbf",
   "metadata": {},
   "outputs": [],
   "source": [
    "dfw.drop(['Unnamed: 0', 'Application_No','Patent_Codes', 'Patent_No'],\n",
    "         axis = 1, inplace = True)"
   ]
  },
  {
   "cell_type": "code",
   "execution_count": 15,
   "id": "d3edc134",
   "metadata": {},
   "outputs": [],
   "source": [
    "dfw.to_csv('OrangeData\\\\for_analysis\\ob_pats_condensed_2_0.csv')"
   ]
  }
 ],
 "metadata": {
  "kernelspec": {
   "display_name": "Python 3 (ipykernel)",
   "language": "python",
   "name": "python3"
  },
  "language_info": {
   "codemirror_mode": {
    "name": "ipython",
    "version": 3
   },
   "file_extension": ".py",
   "mimetype": "text/x-python",
   "name": "python",
   "nbconvert_exporter": "python",
   "pygments_lexer": "ipython3",
   "version": "3.9.7"
  }
 },
 "nbformat": 4,
 "nbformat_minor": 5
}
